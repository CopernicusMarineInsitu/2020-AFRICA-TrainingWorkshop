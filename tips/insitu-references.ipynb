{
 "cells": [
  {
   "cell_type": "markdown",
   "metadata": {},
   "source": [
    "![header](https://i.imgur.com/I4ake6d.jpg)"
   ]
  },
  {
   "cell_type": "markdown",
   "metadata": {},
   "source": [
    "# IN SITU REFERENCES"
   ]
  },
  {
   "cell_type": "markdown",
   "metadata": {},
   "source": [
    "***\n",
    "## DATA SOURCES CATALOG"
   ]
  },
  {
   "cell_type": "markdown",
   "metadata": {},
   "source": [
    "`Data sources`or `data types` represents the elements that report oceanographic data (instruments and platforms). The In Situ TAC manages presently the next set:\n"
   ]
  },
  {
   "cell_type": "markdown",
   "metadata": {},
   "source": [
    "| code | description |\n",
    "| ------- | ------- |\n",
    "|BO | Bottle |\n",
    "|BA | Data from Bathy messages on GTS |\n",
    "|DB | Drifting buoys |\n",
    "|DC | Drifting buoy reporting calculated sea water current |\n",
    "|FB | FerryBox |\n",
    "|MO | Fixed buoys or moorings |\n",
    "|TG | Tide gauges |\n",
    "|GL | Gliders |\n",
    "|ML | Mini logger |\n",
    "|CT | Oceanographic CTD profiles | //historic index file el data_type es \"oceanographic CTD profiles\"\n",
    "|PF | Profiling floats vertical profiles |\n",
    "|RE | Recopesca |\n",
    "|RF | River flows |\n",
    "|SF | Scanfish profiles |\n",
    "|TS | Thermosalinograph data |\n",
    "|TX | Thermistor chain |\n",
    "|XB | XBT or XCTD profiles |\n",
    "|TE | Data from TESAC messages on GTS |\n",
    "|SM | Sea-mammals |\n",
    "|HF | High Frequency Radar |\n",
    "|SD | Saildrone |\n",
    "|VA | Vessel mounted ADCP |\n",
    "|XX | Unknown |"
   ]
  },
  {
   "cell_type": "markdown",
   "metadata": {},
   "source": [
    "<div class=\"alert alert-block alert-info\">\n",
    "<b>TIP</b>\n",
    "\n",
    "*** \n",
    "To find the updated catalog of sources please check <a href=\"https://archimer.ifremer.fr/doc/00488/59938/\" target=\"_blank\">this</a>.\n",
    "</div>"
   ]
  },
  {
   "cell_type": "markdown",
   "metadata": {},
   "source": [
    "***\n",
    "## PARAMETERS CATALOG"
   ]
  },
  {
   "cell_type": "markdown",
   "metadata": {},
   "source": [
    "`Parameters` refers the variables measured by the platforms/instruments. The In Situ TAC manages presently the next set:\n"
   ]
  },
  {
   "cell_type": "code",
   "execution_count": 2,
   "metadata": {},
   "outputs": [
    {
     "data": {
      "text/html": [
       "\n",
       "        <iframe\n",
       "            width=\"100%\"\n",
       "            height=\"600px\"\n",
       "            src=\"https://archimer.ifremer.fr/doc/00422/53381/\"\n",
       "            frameborder=\"0\"\n",
       "            allowfullscreen\n",
       "        ></iframe>\n",
       "        "
      ],
      "text/plain": [
       "<IPython.lib.display.IFrame at 0x7f83cc1871f0>"
      ]
     },
     "execution_count": 2,
     "metadata": {},
     "output_type": "execute_result"
    }
   ],
   "source": [
    "from IPython.display import IFrame\n",
    "IFrame(\"https://archimer.ifremer.fr/doc/00422/53381/\", width='100%', height='600px')"
   ]
  },
  {
   "cell_type": "markdown",
   "metadata": {},
   "source": [
    "<div class=\"alert alert-block alert-info\">\n",
    "<b>TIP</b>\n",
    "\n",
    "*** \n",
    "To find the updated catalog of parameters please check <a href=\"https://archimer.ifremer.fr/doc/00422/53381/\" target=\"_blank\">this</a>."
   ]
  },
  {
   "cell_type": "markdown",
   "metadata": {},
   "source": [
    "***\n",
    "## QUALITY FLAGS CATALOG"
   ]
  },
  {
   "cell_type": "markdown",
   "metadata": {},
   "source": [
    "`quality flags` are the result of passing the observations trough a number of tests (range test, spike test etc) abd the provide and indicator of reliability over each value of a given parameter. The In Situ TAC manages presently the next set:\n"
   ]
  },
  {
   "cell_type": "markdown",
   "metadata": {},
   "source": [
    "| code | description |\n",
    "| ------- | ------- |\n",
    "|1 | Good data |\n",
    "|2 | Probably good data |\n",
    "|3 | Potentially correctable data |\n",
    "|4 | Bad data |\n",
    "|5 | Not used |\n",
    "|6 | Value below detection |\n",
    "|7 | Nominal value |\n",
    "|8 | Interpolated value |\n",
    "|9 | Missing value |"
   ]
  },
  {
   "cell_type": "markdown",
   "metadata": {},
   "source": [
    "<div class=\"alert alert-block alert-info\">\n",
    "<b>TIP</b>\n",
    "\n",
    "*** \n",
    "To find the updated catalog of quality flags please check <a href=\"https://archimer.ifremer.fr/doc/00488/59938/\" target=\"_blank\">this</a>."
   ]
  }
 ],
 "metadata": {
  "kernelspec": {
   "display_name": "Python 3 (ipykernel)",
   "language": "python",
   "name": "python3"
  },
  "language_info": {
   "codemirror_mode": {
    "name": "ipython",
    "version": 3
   },
   "file_extension": ".py",
   "mimetype": "text/x-python",
   "name": "python",
   "nbconvert_exporter": "python",
   "pygments_lexer": "ipython3",
   "version": "3.8.10"
  }
 },
 "nbformat": 4,
 "nbformat_minor": 4
}
